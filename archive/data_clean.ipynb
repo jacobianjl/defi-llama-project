{
 "cells": [
  {
   "cell_type": "markdown",
   "metadata": {},
   "source": [
    "Use api to get list of all the protocols \n",
    "Filter out the addresses for the protocols not to include and the ones that are chainlink users\n",
    "Save the extract"
   ]
  },
  {
   "cell_type": "code",
   "execution_count": 2,
   "metadata": {},
   "outputs": [],
   "source": [
    "import requests\n",
    "import pandas as pd"
   ]
  },
  {
   "cell_type": "code",
   "execution_count": 4,
   "metadata": {},
   "outputs": [
    {
     "name": "stdout",
     "output_type": "stream",
     "text": [
      "200\n"
     ]
    }
   ],
   "source": [
    "# get all protocols\n",
    "response = requests.get(\"https://api.llama.fi/protocols\")\n",
    "print(response.status_code)\n",
    "output = response.json()\n",
    "df = pd.DataFrame(output)\n",
    "df.to_csv('request_protocols_list.csv', index=False) "
   ]
  },
  {
   "cell_type": "markdown",
   "metadata": {},
   "source": [
    "Exclude users to exclude from protocol list"
   ]
  },
  {
   "cell_type": "code",
   "execution_count": 5,
   "metadata": {},
   "outputs": [
    {
     "name": "stdout",
     "output_type": "stream",
     "text": [
      "777\n",
      "777\n",
      "697\n"
     ]
    }
   ],
   "source": [
    "# \n",
    "print(len(df)) \n",
    "print(len(df.drop_duplicates('slug')))\n",
    "df_exclude_filter = pd.read_csv('users_to_exclude.csv')\n",
    "# protocol different names\n",
    "df_exclude_filter = df_exclude_filter.replace(['stacks', 'solfarm', 'xdai stake', 'sun swap'], \n",
    "    ['stacks-staking', 'tulip-protocol', 'xdai-stake-bridge', 'sunswap'])\n",
    "#excluding TRON\n",
    "df_extra_exclude = pd.DataFrame({\n",
    "    'users_to_exclude': ['justcryptos', 'justlend', 'juststables', 'sun.io']\n",
    "})\n",
    "df_exclude_filter = df_exclude_filter.append(df_extra_exclude, ignore_index = True)\n",
    "df_exclude_filter['users_to_exclude'] =  df_exclude_filter['users_to_exclude'].str.replace(' ','-')\n",
    "df = df[~df['slug'].isin(df_exclude_filter['users_to_exclude'])]\n",
    "print(len(df))\n",
    "#easier to have an overall scan in csv\n",
    "df['slug'].to_csv('../protocols_list.csv', index=False) "
   ]
  },
  {
   "cell_type": "markdown",
   "metadata": {},
   "source": [
    "Create list of chainlink users"
   ]
  },
  {
   "cell_type": "code",
   "execution_count": 6,
   "metadata": {},
   "outputs": [
    {
     "name": "stdout",
     "output_type": "stream",
     "text": [
      "56\n",
      "54\n"
     ]
    }
   ],
   "source": [
    "df_chainlink_user_filter = pd.read_csv('chainlink_users.csv')\n",
    "print(len(df_chainlink_user_filter))\n",
    "df_chainlink_user_filter['list of chainlink users'] =  df_chainlink_user_filter['list of chainlink users'].str.replace(' ','-')\n",
    "df = df[df['slug'].isin(df_chainlink_user_filter['list of chainlink users'])]\n",
    "print(len(df))\n",
    "df['slug'].to_csv('../chainlink_users_list.csv', index=False) "
   ]
  }
 ],
 "metadata": {
  "interpreter": {
   "hash": "767d51c1340bd893661ea55ea3124f6de3c7a262a8b4abca0554b478b1e2ff90"
  },
  "kernelspec": {
   "display_name": "Python 3.8.10 64-bit",
   "language": "python",
   "name": "python3"
  },
  "language_info": {
   "codemirror_mode": {
    "name": "ipython",
    "version": 3
   },
   "file_extension": ".py",
   "mimetype": "text/x-python",
   "name": "python",
   "nbconvert_exporter": "python",
   "pygments_lexer": "ipython3",
   "version": "3.8.10"
  },
  "orig_nbformat": 4
 },
 "nbformat": 4,
 "nbformat_minor": 2
}
