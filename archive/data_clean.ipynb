{
 "cells": [
  {
   "cell_type": "markdown",
   "metadata": {},
   "source": [
    "Use api to get list of all the protocols \n",
    "Filter out the addresses for the protocols not to include and the ones that are chainlink users\n",
    "Save the extract"
   ]
  },
  {
   "cell_type": "code",
   "execution_count": 76,
   "metadata": {},
   "outputs": [],
   "source": [
    "import requests\n",
    "import pandas as pd"
   ]
  },
  {
   "cell_type": "code",
   "execution_count": 85,
   "metadata": {},
   "outputs": [
    {
     "name": "stdout",
     "output_type": "stream",
     "text": [
      "200\n"
     ]
    }
   ],
   "source": [
    "# get all protocols\n",
    "response = requests.get(\"https://api.llama.fi/protocols\")\n",
    "print(response.status_code)\n",
    "output = response.json()\n",
    "df = pd.DataFrame(output)"
   ]
  },
  {
   "cell_type": "markdown",
   "metadata": {},
   "source": [
    "Clean dataframe + checks"
   ]
  },
  {
   "cell_type": "code",
   "execution_count": 86,
   "metadata": {},
   "outputs": [
    {
     "name": "stdout",
     "output_type": "stream",
     "text": [
      "777\n",
      "777\n",
      "697\n"
     ]
    }
   ],
   "source": [
    "print(len(df)) \n",
    "print(len(df.drop_duplicates('slug')))\n",
    "df_exclude_filter = pd.read_csv('users_to_exclude.csv')\n",
    "# protocol different names\n",
    "df_exclude_filter = df_exclude_filter.replace(['stacks', 'solfarm', 'xdai stake', 'sun swap'], \n",
    "    ['stacks-staking', 'tulip-protocol', 'xdai-stake-bridge', 'sunswap'])\n",
    "#excluding TRON\n",
    "df_extra_exclude = pd.DataFrame({\n",
    "    'users_to_exclude': ['justcryptos', 'justlend', 'juststables', 'sun.io']\n",
    "})\n",
    "df_exclude_filter = df_exclude_filter.append(df_extra_exclude, ignore_index = True)\n",
    "df_exclude_filter['users_to_exclude'] =  df_exclude_filter['users_to_exclude'].str.replace(' ','-')\n",
    "df = df[~df['slug'].isin(df_exclude_filter['users_to_exclude'])]\n",
    "print(len(df))\n",
    "#easier to have an overall scan in csv\n",
    "df['slug'].to_csv('protocols_list.csv', index=False) "
   ]
  },
  {
   "cell_type": "markdown",
   "metadata": {},
   "source": [
    "Scrap checks"
   ]
  },
  {
   "cell_type": "code",
   "execution_count": 60,
   "metadata": {},
   "outputs": [],
   "source": [
    "# other checks for validation\n",
    "test = df_exclude_filter[~df_exclude_filter['users_to_exclude'].isin(df['slug'])]\n",
    "print(test)"
   ]
  },
  {
   "cell_type": "code",
   "execution_count": null,
   "metadata": {},
   "outputs": [],
   "source": []
  }
 ],
 "metadata": {
  "interpreter": {
   "hash": "767d51c1340bd893661ea55ea3124f6de3c7a262a8b4abca0554b478b1e2ff90"
  },
  "kernelspec": {
   "display_name": "Python 3.8.10 64-bit",
   "language": "python",
   "name": "python3"
  },
  "language_info": {
   "codemirror_mode": {
    "name": "ipython",
    "version": 3
   },
   "file_extension": ".py",
   "mimetype": "text/x-python",
   "name": "python",
   "nbconvert_exporter": "python",
   "pygments_lexer": "ipython3",
   "version": "3.8.10"
  },
  "orig_nbformat": 4
 },
 "nbformat": 4,
 "nbformat_minor": 2
}
